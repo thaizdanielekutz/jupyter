{
 "cells": [
  {
   "cell_type": "markdown",
   "id": "f49d334e",
   "metadata": {},
   "source": [
    "## Importando bibliotecas"
   ]
  },
  {
   "cell_type": "code",
   "execution_count": 1,
   "id": "d35d87fe",
   "metadata": {},
   "outputs": [],
   "source": [
    "import numpy as np\n",
    "import pandas as pd"
   ]
  },
  {
   "cell_type": "markdown",
   "id": "86869c99",
   "metadata": {},
   "source": [
    "## Gerar dados"
   ]
  },
  {
   "cell_type": "code",
   "execution_count": 9,
   "id": "84224f8a",
   "metadata": {},
   "outputs": [
    {
     "data": {
      "text/plain": [
       "array([10, 10, 10, 10, 30, 30, 30, 30, 30, 30, 30, 30, 50, 50, 50, 50, 70,\n",
       "       70, 70, 90])"
      ]
     },
     "execution_count": 9,
     "metadata": {},
     "output_type": "execute_result"
    }
   ],
   "source": [
    "idade = np.array([10,10,10,10,30,30,30,30,30,30,30,30,50,50,50,50,70,70,70,90])\n",
    "idade"
   ]
  },
  {
   "cell_type": "markdown",
   "id": "b585d085",
   "metadata": {},
   "source": [
    "## Tipo de classe"
   ]
  },
  {
   "cell_type": "code",
   "execution_count": 4,
   "id": "0403157d",
   "metadata": {},
   "outputs": [
    {
     "data": {
      "text/plain": [
       "dtype('int32')"
      ]
     },
     "execution_count": 4,
     "metadata": {},
     "output_type": "execute_result"
    }
   ],
   "source": [
    "idade.dtype"
   ]
  },
  {
   "cell_type": "code",
   "execution_count": 5,
   "id": "617662e1",
   "metadata": {},
   "outputs": [
    {
     "data": {
      "text/plain": [
       "array([10, 10, 10, 10, 30, 30, 30, 30, 30, 30, 30, 30, 50, 50, 50, 50, 70,\n",
       "       70, 70, 90])"
      ]
     },
     "execution_count": 5,
     "metadata": {},
     "output_type": "execute_result"
    }
   ],
   "source": [
    "# Ou\n",
    "idade_rep = np.concatenate([np.repeat(10,4), np.repeat(30,8), np.repeat(50,4),np.repeat(70,3), np.repeat(90,1)])\n",
    "idade_rep"
   ]
  },
  {
   "cell_type": "code",
   "execution_count": 7,
   "id": "b456c3bd",
   "metadata": {},
   "outputs": [
    {
     "data": {
      "text/plain": [
       "array([10, 10, 10, 10, 30, 30, 30, 30, 30, 30, 30, 30, 50, 50, 50, 50, 70,\n",
       "       70, 70, 90])"
      ]
     },
     "execution_count": 7,
     "metadata": {},
     "output_type": "execute_result"
    }
   ],
   "source": [
    "# Ou\n",
    "idade_rep = np.repeat(np.array([10,30,50,70,90]), repeats = [4,8,4,3,1], axis = 0)\n",
    "idade_rep"
   ]
  },
  {
   "cell_type": "markdown",
   "id": "a1b52630",
   "metadata": {},
   "source": [
    "## Verificando"
   ]
  },
  {
   "cell_type": "code",
   "execution_count": 10,
   "id": "aec54bb2",
   "metadata": {},
   "outputs": [
    {
     "data": {
      "text/plain": [
       "array([ True,  True,  True,  True,  True,  True,  True,  True,  True,\n",
       "        True,  True,  True,  True,  True,  True,  True,  True,  True,\n",
       "        True,  True])"
      ]
     },
     "execution_count": 10,
     "metadata": {},
     "output_type": "execute_result"
    }
   ],
   "source": [
    "idade==idade_rep"
   ]
  },
  {
   "cell_type": "markdown",
   "id": "ab2414c7",
   "metadata": {},
   "source": [
    "## Transformar em tabela (Data Frame)"
   ]
  },
  {
   "cell_type": "code",
   "execution_count": 13,
   "id": "55ca3262",
   "metadata": {},
   "outputs": [
    {
     "data": {
      "text/html": [
       "<div>\n",
       "<style scoped>\n",
       "    .dataframe tbody tr th:only-of-type {\n",
       "        vertical-align: middle;\n",
       "    }\n",
       "\n",
       "    .dataframe tbody tr th {\n",
       "        vertical-align: top;\n",
       "    }\n",
       "\n",
       "    .dataframe thead th {\n",
       "        text-align: right;\n",
       "    }\n",
       "</style>\n",
       "<table border=\"1\" class=\"dataframe\">\n",
       "  <thead>\n",
       "    <tr style=\"text-align: right;\">\n",
       "      <th></th>\n",
       "      <th>a</th>\n",
       "    </tr>\n",
       "  </thead>\n",
       "  <tbody>\n",
       "    <tr>\n",
       "      <th>0</th>\n",
       "      <td>10</td>\n",
       "    </tr>\n",
       "    <tr>\n",
       "      <th>1</th>\n",
       "      <td>10</td>\n",
       "    </tr>\n",
       "    <tr>\n",
       "      <th>2</th>\n",
       "      <td>10</td>\n",
       "    </tr>\n",
       "    <tr>\n",
       "      <th>3</th>\n",
       "      <td>10</td>\n",
       "    </tr>\n",
       "    <tr>\n",
       "      <th>4</th>\n",
       "      <td>30</td>\n",
       "    </tr>\n",
       "    <tr>\n",
       "      <th>5</th>\n",
       "      <td>30</td>\n",
       "    </tr>\n",
       "    <tr>\n",
       "      <th>6</th>\n",
       "      <td>30</td>\n",
       "    </tr>\n",
       "    <tr>\n",
       "      <th>7</th>\n",
       "      <td>30</td>\n",
       "    </tr>\n",
       "    <tr>\n",
       "      <th>8</th>\n",
       "      <td>30</td>\n",
       "    </tr>\n",
       "    <tr>\n",
       "      <th>9</th>\n",
       "      <td>30</td>\n",
       "    </tr>\n",
       "    <tr>\n",
       "      <th>10</th>\n",
       "      <td>30</td>\n",
       "    </tr>\n",
       "    <tr>\n",
       "      <th>11</th>\n",
       "      <td>30</td>\n",
       "    </tr>\n",
       "    <tr>\n",
       "      <th>12</th>\n",
       "      <td>50</td>\n",
       "    </tr>\n",
       "    <tr>\n",
       "      <th>13</th>\n",
       "      <td>50</td>\n",
       "    </tr>\n",
       "    <tr>\n",
       "      <th>14</th>\n",
       "      <td>50</td>\n",
       "    </tr>\n",
       "    <tr>\n",
       "      <th>15</th>\n",
       "      <td>50</td>\n",
       "    </tr>\n",
       "    <tr>\n",
       "      <th>16</th>\n",
       "      <td>70</td>\n",
       "    </tr>\n",
       "    <tr>\n",
       "      <th>17</th>\n",
       "      <td>70</td>\n",
       "    </tr>\n",
       "    <tr>\n",
       "      <th>18</th>\n",
       "      <td>70</td>\n",
       "    </tr>\n",
       "    <tr>\n",
       "      <th>19</th>\n",
       "      <td>90</td>\n",
       "    </tr>\n",
       "  </tbody>\n",
       "</table>\n",
       "</div>"
      ],
      "text/plain": [
       "     a\n",
       "0   10\n",
       "1   10\n",
       "2   10\n",
       "3   10\n",
       "4   30\n",
       "5   30\n",
       "6   30\n",
       "7   30\n",
       "8   30\n",
       "9   30\n",
       "10  30\n",
       "11  30\n",
       "12  50\n",
       "13  50\n",
       "14  50\n",
       "15  50\n",
       "16  70\n",
       "17  70\n",
       "18  70\n",
       "19  90"
      ]
     },
     "execution_count": 13,
     "metadata": {},
     "output_type": "execute_result"
    }
   ],
   "source": [
    "table = pd.DataFrame(idade, columns=['a'])\n",
    "table\n",
    "#table.value_counts()\n",
    "#table.columns = ['Idade', 'Freq']"
   ]
  },
  {
   "cell_type": "markdown",
   "id": "d20ed01e",
   "metadata": {},
   "source": [
    "## Calculando as frequências simples"
   ]
  },
  {
   "cell_type": "code",
   "execution_count": 14,
   "id": "8c5268d8",
   "metadata": {},
   "outputs": [
    {
     "data": {
      "text/plain": [
       "a\n",
       "10    4\n",
       "30    8\n",
       "50    4\n",
       "70    3\n",
       "90    1\n",
       "dtype: int64"
      ]
     },
     "execution_count": 14,
     "metadata": {},
     "output_type": "execute_result"
    }
   ],
   "source": [
    "table.groupby(['a']).size()"
   ]
  },
  {
   "cell_type": "markdown",
   "id": "e2de2c14",
   "metadata": {},
   "source": [
    "## Quantidade total de alunos"
   ]
  },
  {
   "cell_type": "code",
   "execution_count": 16,
   "id": "7c40eb44",
   "metadata": {},
   "outputs": [
    {
     "data": {
      "text/plain": [
       "20"
      ]
     },
     "execution_count": 16,
     "metadata": {},
     "output_type": "execute_result"
    }
   ],
   "source": [
    "table.groupby(['a']).size().sum()"
   ]
  },
  {
   "cell_type": "code",
   "execution_count": null,
   "id": "01ade78d",
   "metadata": {},
   "outputs": [],
   "source": []
  }
 ],
 "metadata": {
  "kernelspec": {
   "display_name": "Python 3 (ipykernel)",
   "language": "python",
   "name": "python3"
  },
  "language_info": {
   "codemirror_mode": {
    "name": "ipython",
    "version": 3
   },
   "file_extension": ".py",
   "mimetype": "text/x-python",
   "name": "python",
   "nbconvert_exporter": "python",
   "pygments_lexer": "ipython3",
   "version": "3.9.7"
  }
 },
 "nbformat": 4,
 "nbformat_minor": 5
}
